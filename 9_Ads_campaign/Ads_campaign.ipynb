{
 "cells": [
  {
   "cell_type": "code",
   "execution_count": 1,
   "id": "7b94d0f6",
   "metadata": {},
   "outputs": [],
   "source": [
    "import pandas as pd\n",
    "import seaborn as sns\n",
    "import warnings\n",
    "import matplotlib.pyplot as plt\n",
    "import plotly.express as px\n",
    "\n"
   ]
  },
  {
   "cell_type": "code",
   "execution_count": 2,
   "id": "ace0ce24",
   "metadata": {},
   "outputs": [],
   "source": [
    "# Настройка seaborn для таблицы\n",
    "sns.set(\n",
    "    font_scale=2,\n",
    "    style='whitegrid',\n",
    "    rc={'figure.figsize':(20,7)}\n",
    ")"
   ]
  },
  {
   "cell_type": "code",
   "execution_count": 3,
   "id": "6f609af6",
   "metadata": {},
   "outputs": [],
   "source": [
    "warnings.filterwarnings('ignore')"
   ]
  },
  {
   "cell_type": "code",
   "execution_count": 4,
   "id": "182bb562",
   "metadata": {},
   "outputs": [],
   "source": [
    "ads = pd.read_csv('ads_data.csv')\n"
   ]
  },
  {
   "cell_type": "markdown",
   "id": "b7b9eadc",
   "metadata": {},
   "source": [
    "Посмотрим на данные"
   ]
  },
  {
   "cell_type": "code",
   "execution_count": 5,
   "id": "d3f9a9a5",
   "metadata": {
    "scrolled": false
   },
   "outputs": [
    {
     "data": {
      "text/html": [
       "<div>\n",
       "<style scoped>\n",
       "    .dataframe tbody tr th:only-of-type {\n",
       "        vertical-align: middle;\n",
       "    }\n",
       "\n",
       "    .dataframe tbody tr th {\n",
       "        vertical-align: top;\n",
       "    }\n",
       "\n",
       "    .dataframe thead th {\n",
       "        text-align: right;\n",
       "    }\n",
       "</style>\n",
       "<table border=\"1\" class=\"dataframe\">\n",
       "  <thead>\n",
       "    <tr style=\"text-align: right;\">\n",
       "      <th></th>\n",
       "      <th>date</th>\n",
       "      <th>time</th>\n",
       "      <th>event</th>\n",
       "      <th>platform</th>\n",
       "      <th>ad_id</th>\n",
       "      <th>client_union_id</th>\n",
       "      <th>campaign_union_id</th>\n",
       "      <th>ad_cost_type</th>\n",
       "      <th>ad_cost</th>\n",
       "      <th>has_video</th>\n",
       "      <th>target_audience_count</th>\n",
       "    </tr>\n",
       "  </thead>\n",
       "  <tbody>\n",
       "    <tr>\n",
       "      <th>0</th>\n",
       "      <td>2019-04-01</td>\n",
       "      <td>2019-04-01 00:00:48</td>\n",
       "      <td>view</td>\n",
       "      <td>android</td>\n",
       "      <td>45061</td>\n",
       "      <td>34734</td>\n",
       "      <td>45061</td>\n",
       "      <td>CPM</td>\n",
       "      <td>200.6</td>\n",
       "      <td>0</td>\n",
       "      <td>1955269</td>\n",
       "    </tr>\n",
       "    <tr>\n",
       "      <th>1</th>\n",
       "      <td>2019-04-01</td>\n",
       "      <td>2019-04-01 00:00:48</td>\n",
       "      <td>view</td>\n",
       "      <td>web</td>\n",
       "      <td>121288</td>\n",
       "      <td>121288</td>\n",
       "      <td>121288</td>\n",
       "      <td>CPM</td>\n",
       "      <td>187.4</td>\n",
       "      <td>0</td>\n",
       "      <td>232011</td>\n",
       "    </tr>\n",
       "    <tr>\n",
       "      <th>2</th>\n",
       "      <td>2019-04-01</td>\n",
       "      <td>2019-04-01 00:01:03</td>\n",
       "      <td>view</td>\n",
       "      <td>android</td>\n",
       "      <td>102737</td>\n",
       "      <td>102535</td>\n",
       "      <td>102564</td>\n",
       "      <td>CPC</td>\n",
       "      <td>60.7</td>\n",
       "      <td>0</td>\n",
       "      <td>4410</td>\n",
       "    </tr>\n",
       "    <tr>\n",
       "      <th>3</th>\n",
       "      <td>2019-04-01</td>\n",
       "      <td>2019-04-01 00:01:03</td>\n",
       "      <td>view</td>\n",
       "      <td>android</td>\n",
       "      <td>107564</td>\n",
       "      <td>106914</td>\n",
       "      <td>107564</td>\n",
       "      <td>CPM</td>\n",
       "      <td>217.3</td>\n",
       "      <td>0</td>\n",
       "      <td>62711</td>\n",
       "    </tr>\n",
       "    <tr>\n",
       "      <th>4</th>\n",
       "      <td>2019-04-01</td>\n",
       "      <td>2019-04-01 00:01:09</td>\n",
       "      <td>view</td>\n",
       "      <td>android</td>\n",
       "      <td>4922</td>\n",
       "      <td>37</td>\n",
       "      <td>4400</td>\n",
       "      <td>CPC</td>\n",
       "      <td>60.1</td>\n",
       "      <td>0</td>\n",
       "      <td>1183501</td>\n",
       "    </tr>\n",
       "    <tr>\n",
       "      <th>...</th>\n",
       "      <td>...</td>\n",
       "      <td>...</td>\n",
       "      <td>...</td>\n",
       "      <td>...</td>\n",
       "      <td>...</td>\n",
       "      <td>...</td>\n",
       "      <td>...</td>\n",
       "      <td>...</td>\n",
       "      <td>...</td>\n",
       "      <td>...</td>\n",
       "      <td>...</td>\n",
       "    </tr>\n",
       "    <tr>\n",
       "      <th>999995</th>\n",
       "      <td>2019-04-05</td>\n",
       "      <td>2019-04-05 20:59:52</td>\n",
       "      <td>view</td>\n",
       "      <td>web</td>\n",
       "      <td>112583</td>\n",
       "      <td>111818</td>\n",
       "      <td>112260</td>\n",
       "      <td>CPM</td>\n",
       "      <td>210.1</td>\n",
       "      <td>0</td>\n",
       "      <td>22392</td>\n",
       "    </tr>\n",
       "    <tr>\n",
       "      <th>999996</th>\n",
       "      <td>2019-04-05</td>\n",
       "      <td>2019-04-05 20:59:52</td>\n",
       "      <td>view</td>\n",
       "      <td>android</td>\n",
       "      <td>112583</td>\n",
       "      <td>111818</td>\n",
       "      <td>112260</td>\n",
       "      <td>CPM</td>\n",
       "      <td>210.1</td>\n",
       "      <td>0</td>\n",
       "      <td>22392</td>\n",
       "    </tr>\n",
       "    <tr>\n",
       "      <th>999997</th>\n",
       "      <td>2019-04-05</td>\n",
       "      <td>2019-04-05 20:59:52</td>\n",
       "      <td>click</td>\n",
       "      <td>web</td>\n",
       "      <td>112583</td>\n",
       "      <td>111818</td>\n",
       "      <td>112260</td>\n",
       "      <td>CPM</td>\n",
       "      <td>210.1</td>\n",
       "      <td>0</td>\n",
       "      <td>22392</td>\n",
       "    </tr>\n",
       "    <tr>\n",
       "      <th>999998</th>\n",
       "      <td>2019-04-05</td>\n",
       "      <td>2019-04-05 20:59:52</td>\n",
       "      <td>view</td>\n",
       "      <td>web</td>\n",
       "      <td>113350</td>\n",
       "      <td>113036</td>\n",
       "      <td>113251</td>\n",
       "      <td>CPM</td>\n",
       "      <td>183.3</td>\n",
       "      <td>0</td>\n",
       "      <td>571929</td>\n",
       "    </tr>\n",
       "    <tr>\n",
       "      <th>999999</th>\n",
       "      <td>2019-04-05</td>\n",
       "      <td>2019-04-05 20:59:52</td>\n",
       "      <td>view</td>\n",
       "      <td>android</td>\n",
       "      <td>117353</td>\n",
       "      <td>117350</td>\n",
       "      <td>117353</td>\n",
       "      <td>CPM</td>\n",
       "      <td>207.5</td>\n",
       "      <td>1</td>\n",
       "      <td>167598</td>\n",
       "    </tr>\n",
       "  </tbody>\n",
       "</table>\n",
       "<p>1000000 rows × 11 columns</p>\n",
       "</div>"
      ],
      "text/plain": [
       "              date                 time  event platform   ad_id  \\\n",
       "0       2019-04-01  2019-04-01 00:00:48   view  android   45061   \n",
       "1       2019-04-01  2019-04-01 00:00:48   view      web  121288   \n",
       "2       2019-04-01  2019-04-01 00:01:03   view  android  102737   \n",
       "3       2019-04-01  2019-04-01 00:01:03   view  android  107564   \n",
       "4       2019-04-01  2019-04-01 00:01:09   view  android    4922   \n",
       "...            ...                  ...    ...      ...     ...   \n",
       "999995  2019-04-05  2019-04-05 20:59:52   view      web  112583   \n",
       "999996  2019-04-05  2019-04-05 20:59:52   view  android  112583   \n",
       "999997  2019-04-05  2019-04-05 20:59:52  click      web  112583   \n",
       "999998  2019-04-05  2019-04-05 20:59:52   view      web  113350   \n",
       "999999  2019-04-05  2019-04-05 20:59:52   view  android  117353   \n",
       "\n",
       "        client_union_id  campaign_union_id ad_cost_type  ad_cost  has_video  \\\n",
       "0                 34734              45061          CPM    200.6          0   \n",
       "1                121288             121288          CPM    187.4          0   \n",
       "2                102535             102564          CPC     60.7          0   \n",
       "3                106914             107564          CPM    217.3          0   \n",
       "4                    37               4400          CPC     60.1          0   \n",
       "...                 ...                ...          ...      ...        ...   \n",
       "999995           111818             112260          CPM    210.1          0   \n",
       "999996           111818             112260          CPM    210.1          0   \n",
       "999997           111818             112260          CPM    210.1          0   \n",
       "999998           113036             113251          CPM    183.3          0   \n",
       "999999           117350             117353          CPM    207.5          1   \n",
       "\n",
       "        target_audience_count  \n",
       "0                     1955269  \n",
       "1                      232011  \n",
       "2                        4410  \n",
       "3                       62711  \n",
       "4                     1183501  \n",
       "...                       ...  \n",
       "999995                  22392  \n",
       "999996                  22392  \n",
       "999997                  22392  \n",
       "999998                 571929  \n",
       "999999                 167598  \n",
       "\n",
       "[1000000 rows x 11 columns]"
      ]
     },
     "execution_count": 5,
     "metadata": {},
     "output_type": "execute_result"
    }
   ],
   "source": [
    "ads"
   ]
  },
  {
   "cell_type": "code",
   "execution_count": 6,
   "id": "547d90ce",
   "metadata": {},
   "outputs": [
    {
     "data": {
      "text/plain": [
       "0"
      ]
     },
     "execution_count": 6,
     "metadata": {},
     "output_type": "execute_result"
    }
   ],
   "source": [
    "ads.event.isna().sum()"
   ]
  },
  {
   "cell_type": "code",
   "execution_count": 7,
   "id": "43db7af7",
   "metadata": {},
   "outputs": [
    {
     "data": {
      "text/plain": [
       "0        2019-04-01\n",
       "1        2019-04-01\n",
       "2        2019-04-01\n",
       "3        2019-04-01\n",
       "4        2019-04-01\n",
       "            ...    \n",
       "999995   2019-04-05\n",
       "999996   2019-04-05\n",
       "999997   2019-04-05\n",
       "999998   2019-04-05\n",
       "999999   2019-04-05\n",
       "Name: date, Length: 1000000, dtype: datetime64[ns]"
      ]
     },
     "execution_count": 7,
     "metadata": {},
     "output_type": "execute_result"
    }
   ],
   "source": [
    "pd.to_datetime(ads.date)"
   ]
  },
  {
   "cell_type": "markdown",
   "id": "b3c75de0",
   "metadata": {},
   "source": [
    "Посчитаем среднее количество показов и среднее количество кликов на объявления за весь период"
   ]
  },
  {
   "cell_type": "code",
   "execution_count": 8,
   "id": "25e8c6ce",
   "metadata": {},
   "outputs": [
    {
     "data": {
      "text/html": [
       "<div>\n",
       "<style scoped>\n",
       "    .dataframe tbody tr th:only-of-type {\n",
       "        vertical-align: middle;\n",
       "    }\n",
       "\n",
       "    .dataframe tbody tr th {\n",
       "        vertical-align: top;\n",
       "    }\n",
       "\n",
       "    .dataframe thead th {\n",
       "        text-align: right;\n",
       "    }\n",
       "</style>\n",
       "<table border=\"1\" class=\"dataframe\">\n",
       "  <thead>\n",
       "    <tr style=\"text-align: right;\">\n",
       "      <th></th>\n",
       "      <th>ad_id</th>\n",
       "      <th>event</th>\n",
       "      <th>quantity</th>\n",
       "    </tr>\n",
       "  </thead>\n",
       "  <tbody>\n",
       "    <tr>\n",
       "      <th>0</th>\n",
       "      <td>2</td>\n",
       "      <td>click</td>\n",
       "      <td>1</td>\n",
       "    </tr>\n",
       "    <tr>\n",
       "      <th>1</th>\n",
       "      <td>2</td>\n",
       "      <td>view</td>\n",
       "      <td>101</td>\n",
       "    </tr>\n",
       "    <tr>\n",
       "      <th>2</th>\n",
       "      <td>3</td>\n",
       "      <td>click</td>\n",
       "      <td>3</td>\n",
       "    </tr>\n",
       "    <tr>\n",
       "      <th>3</th>\n",
       "      <td>3</td>\n",
       "      <td>view</td>\n",
       "      <td>184</td>\n",
       "    </tr>\n",
       "    <tr>\n",
       "      <th>4</th>\n",
       "      <td>1902</td>\n",
       "      <td>click</td>\n",
       "      <td>1</td>\n",
       "    </tr>\n",
       "    <tr>\n",
       "      <th>...</th>\n",
       "      <td>...</td>\n",
       "      <td>...</td>\n",
       "      <td>...</td>\n",
       "    </tr>\n",
       "    <tr>\n",
       "      <th>1476</th>\n",
       "      <td>122013</td>\n",
       "      <td>view</td>\n",
       "      <td>156</td>\n",
       "    </tr>\n",
       "    <tr>\n",
       "      <th>1477</th>\n",
       "      <td>122023</td>\n",
       "      <td>view</td>\n",
       "      <td>68</td>\n",
       "    </tr>\n",
       "    <tr>\n",
       "      <th>1478</th>\n",
       "      <td>122031</td>\n",
       "      <td>click</td>\n",
       "      <td>1</td>\n",
       "    </tr>\n",
       "    <tr>\n",
       "      <th>1479</th>\n",
       "      <td>122031</td>\n",
       "      <td>view</td>\n",
       "      <td>138</td>\n",
       "    </tr>\n",
       "    <tr>\n",
       "      <th>1480</th>\n",
       "      <td>122078</td>\n",
       "      <td>view</td>\n",
       "      <td>42</td>\n",
       "    </tr>\n",
       "  </tbody>\n",
       "</table>\n",
       "<p>1481 rows × 3 columns</p>\n",
       "</div>"
      ],
      "text/plain": [
       "       ad_id  event  quantity\n",
       "0          2  click         1\n",
       "1          2   view       101\n",
       "2          3  click         3\n",
       "3          3   view       184\n",
       "4       1902  click         1\n",
       "...      ...    ...       ...\n",
       "1476  122013   view       156\n",
       "1477  122023   view        68\n",
       "1478  122031  click         1\n",
       "1479  122031   view       138\n",
       "1480  122078   view        42\n",
       "\n",
       "[1481 rows x 3 columns]"
      ]
     },
     "execution_count": 8,
     "metadata": {},
     "output_type": "execute_result"
    }
   ],
   "source": [
    "mean_per_ad = ads.groupby(['ad_id', 'event'], as_index=False) \\\n",
    "                   .agg({'time': 'count'}) \\\n",
    "                   .rename(columns={'time': 'quantity'}) \\\n",
    "\n",
    "mean_per_ad"
   ]
  },
  {
   "cell_type": "code",
   "execution_count": 9,
   "id": "1ad63fc9",
   "metadata": {},
   "outputs": [
    {
     "data": {
      "text/html": [
       "<div>\n",
       "<style scoped>\n",
       "    .dataframe tbody tr th:only-of-type {\n",
       "        vertical-align: middle;\n",
       "    }\n",
       "\n",
       "    .dataframe tbody tr th {\n",
       "        vertical-align: top;\n",
       "    }\n",
       "\n",
       "    .dataframe thead th {\n",
       "        text-align: right;\n",
       "    }\n",
       "</style>\n",
       "<table border=\"1\" class=\"dataframe\">\n",
       "  <thead>\n",
       "    <tr style=\"text-align: right;\">\n",
       "      <th>event</th>\n",
       "      <th>ad_id</th>\n",
       "      <th>click</th>\n",
       "      <th>view</th>\n",
       "    </tr>\n",
       "  </thead>\n",
       "  <tbody>\n",
       "    <tr>\n",
       "      <th>0</th>\n",
       "      <td>2</td>\n",
       "      <td>1</td>\n",
       "      <td>101</td>\n",
       "    </tr>\n",
       "    <tr>\n",
       "      <th>1</th>\n",
       "      <td>3</td>\n",
       "      <td>3</td>\n",
       "      <td>184</td>\n",
       "    </tr>\n",
       "    <tr>\n",
       "      <th>2</th>\n",
       "      <td>1902</td>\n",
       "      <td>1</td>\n",
       "      <td>41</td>\n",
       "    </tr>\n",
       "    <tr>\n",
       "      <th>3</th>\n",
       "      <td>2064</td>\n",
       "      <td>0</td>\n",
       "      <td>35</td>\n",
       "    </tr>\n",
       "    <tr>\n",
       "      <th>4</th>\n",
       "      <td>2132</td>\n",
       "      <td>1</td>\n",
       "      <td>58</td>\n",
       "    </tr>\n",
       "    <tr>\n",
       "      <th>...</th>\n",
       "      <td>...</td>\n",
       "      <td>...</td>\n",
       "      <td>...</td>\n",
       "    </tr>\n",
       "    <tr>\n",
       "      <th>960</th>\n",
       "      <td>122004</td>\n",
       "      <td>4</td>\n",
       "      <td>100</td>\n",
       "    </tr>\n",
       "    <tr>\n",
       "      <th>961</th>\n",
       "      <td>122013</td>\n",
       "      <td>0</td>\n",
       "      <td>156</td>\n",
       "    </tr>\n",
       "    <tr>\n",
       "      <th>962</th>\n",
       "      <td>122023</td>\n",
       "      <td>0</td>\n",
       "      <td>68</td>\n",
       "    </tr>\n",
       "    <tr>\n",
       "      <th>963</th>\n",
       "      <td>122031</td>\n",
       "      <td>1</td>\n",
       "      <td>138</td>\n",
       "    </tr>\n",
       "    <tr>\n",
       "      <th>964</th>\n",
       "      <td>122078</td>\n",
       "      <td>0</td>\n",
       "      <td>42</td>\n",
       "    </tr>\n",
       "  </tbody>\n",
       "</table>\n",
       "<p>965 rows × 3 columns</p>\n",
       "</div>"
      ],
      "text/plain": [
       "event   ad_id  click  view\n",
       "0           2      1   101\n",
       "1           3      3   184\n",
       "2        1902      1    41\n",
       "3        2064      0    35\n",
       "4        2132      1    58\n",
       "..        ...    ...   ...\n",
       "960    122004      4   100\n",
       "961    122013      0   156\n",
       "962    122023      0    68\n",
       "963    122031      1   138\n",
       "964    122078      0    42\n",
       "\n",
       "[965 rows x 3 columns]"
      ]
     },
     "execution_count": 9,
     "metadata": {},
     "output_type": "execute_result"
    }
   ],
   "source": [
    "# Преобразуем в сводную таблицу\n",
    "pivot_events_per_ad = mean_per_ad.pivot(index='ad_id', columns='event', values='quantity') \\\n",
    "                   .fillna(0).reset_index().astype('int') \\\n",
    "                   \n",
    "pivot_events_per_ad"
   ]
  },
  {
   "cell_type": "code",
   "execution_count": 10,
   "id": "34ebf934",
   "metadata": {},
   "outputs": [
    {
     "data": {
      "text/plain": [
       "event\n",
       "ad_id    57971.0\n",
       "click      113.0\n",
       "view       923.0\n",
       "dtype: float64"
      ]
     },
     "execution_count": 10,
     "metadata": {},
     "output_type": "execute_result"
    }
   ],
   "source": [
    "pivot_events_per_ad.mean().round(0)"
   ]
  },
  {
   "cell_type": "code",
   "execution_count": 11,
   "id": "1fa7b59e",
   "metadata": {},
   "outputs": [
    {
     "data": {
      "text/plain": [
       "ad_id        int64\n",
       "event       object\n",
       "quantity     int64\n",
       "dtype: object"
      ]
     },
     "execution_count": 11,
     "metadata": {},
     "output_type": "execute_result"
    }
   ],
   "source": [
    "mean_per_ad.dtypes"
   ]
  },
  {
   "cell_type": "code",
   "execution_count": 12,
   "id": "1f1e946f",
   "metadata": {},
   "outputs": [
    {
     "data": {
      "text/html": [
       "<div>\n",
       "<style scoped>\n",
       "    .dataframe tbody tr th:only-of-type {\n",
       "        vertical-align: middle;\n",
       "    }\n",
       "\n",
       "    .dataframe tbody tr th {\n",
       "        vertical-align: top;\n",
       "    }\n",
       "\n",
       "    .dataframe thead th {\n",
       "        text-align: right;\n",
       "    }\n",
       "</style>\n",
       "<table border=\"1\" class=\"dataframe\">\n",
       "  <thead>\n",
       "    <tr style=\"text-align: right;\">\n",
       "      <th></th>\n",
       "      <th>time</th>\n",
       "    </tr>\n",
       "    <tr>\n",
       "      <th>event</th>\n",
       "      <th></th>\n",
       "    </tr>\n",
       "  </thead>\n",
       "  <tbody>\n",
       "    <tr>\n",
       "      <th>click</th>\n",
       "      <td>113.0</td>\n",
       "    </tr>\n",
       "    <tr>\n",
       "      <th>view</th>\n",
       "      <td>923.0</td>\n",
       "    </tr>\n",
       "  </tbody>\n",
       "</table>\n",
       "</div>"
      ],
      "text/plain": [
       "        time\n",
       "event       \n",
       "click  113.0\n",
       "view   923.0"
      ]
     },
     "execution_count": 12,
     "metadata": {},
     "output_type": "execute_result"
    }
   ],
   "source": [
    "# Альтернативный вариант\n",
    "ads.groupby('event').agg({'time':'count'}).div(ads.ad_id.nunique()).round()"
   ]
  },
  {
   "cell_type": "markdown",
   "id": "30d09db2",
   "metadata": {},
   "source": [
    "Построим график распределения показов на объявление за весь период"
   ]
  },
  {
   "cell_type": "code",
   "execution_count": 13,
   "id": "a3a98042",
   "metadata": {},
   "outputs": [
    {
     "data": {
      "text/html": [
       "<div>\n",
       "<style scoped>\n",
       "    .dataframe tbody tr th:only-of-type {\n",
       "        vertical-align: middle;\n",
       "    }\n",
       "\n",
       "    .dataframe tbody tr th {\n",
       "        vertical-align: top;\n",
       "    }\n",
       "\n",
       "    .dataframe thead th {\n",
       "        text-align: right;\n",
       "    }\n",
       "</style>\n",
       "<table border=\"1\" class=\"dataframe\">\n",
       "  <thead>\n",
       "    <tr style=\"text-align: right;\">\n",
       "      <th></th>\n",
       "      <th>ad_id</th>\n",
       "      <th>event</th>\n",
       "      <th>quantity</th>\n",
       "    </tr>\n",
       "  </thead>\n",
       "  <tbody>\n",
       "    <tr>\n",
       "      <th>1</th>\n",
       "      <td>2</td>\n",
       "      <td>view</td>\n",
       "      <td>101</td>\n",
       "    </tr>\n",
       "    <tr>\n",
       "      <th>3</th>\n",
       "      <td>3</td>\n",
       "      <td>view</td>\n",
       "      <td>184</td>\n",
       "    </tr>\n",
       "    <tr>\n",
       "      <th>5</th>\n",
       "      <td>1902</td>\n",
       "      <td>view</td>\n",
       "      <td>41</td>\n",
       "    </tr>\n",
       "    <tr>\n",
       "      <th>6</th>\n",
       "      <td>2064</td>\n",
       "      <td>view</td>\n",
       "      <td>35</td>\n",
       "    </tr>\n",
       "    <tr>\n",
       "      <th>8</th>\n",
       "      <td>2132</td>\n",
       "      <td>view</td>\n",
       "      <td>58</td>\n",
       "    </tr>\n",
       "    <tr>\n",
       "      <th>...</th>\n",
       "      <td>...</td>\n",
       "      <td>...</td>\n",
       "      <td>...</td>\n",
       "    </tr>\n",
       "    <tr>\n",
       "      <th>1475</th>\n",
       "      <td>122004</td>\n",
       "      <td>view</td>\n",
       "      <td>100</td>\n",
       "    </tr>\n",
       "    <tr>\n",
       "      <th>1476</th>\n",
       "      <td>122013</td>\n",
       "      <td>view</td>\n",
       "      <td>156</td>\n",
       "    </tr>\n",
       "    <tr>\n",
       "      <th>1477</th>\n",
       "      <td>122023</td>\n",
       "      <td>view</td>\n",
       "      <td>68</td>\n",
       "    </tr>\n",
       "    <tr>\n",
       "      <th>1479</th>\n",
       "      <td>122031</td>\n",
       "      <td>view</td>\n",
       "      <td>138</td>\n",
       "    </tr>\n",
       "    <tr>\n",
       "      <th>1480</th>\n",
       "      <td>122078</td>\n",
       "      <td>view</td>\n",
       "      <td>42</td>\n",
       "    </tr>\n",
       "  </tbody>\n",
       "</table>\n",
       "<p>956 rows × 3 columns</p>\n",
       "</div>"
      ],
      "text/plain": [
       "       ad_id event  quantity\n",
       "1          2  view       101\n",
       "3          3  view       184\n",
       "5       1902  view        41\n",
       "6       2064  view        35\n",
       "8       2132  view        58\n",
       "...      ...   ...       ...\n",
       "1475  122004  view       100\n",
       "1476  122013  view       156\n",
       "1477  122023  view        68\n",
       "1479  122031  view       138\n",
       "1480  122078  view        42\n",
       "\n",
       "[956 rows x 3 columns]"
      ]
     },
     "execution_count": 13,
     "metadata": {},
     "output_type": "execute_result"
    }
   ],
   "source": [
    "views_per_ad = mean_per_ad.query('event == \"view\"')\n",
    "views_per_ad"
   ]
  },
  {
   "cell_type": "code",
   "execution_count": 14,
   "id": "a5efae6b",
   "metadata": {},
   "outputs": [
    {
     "data": {
      "text/plain": [
       "<AxesSubplot:xlabel='quantity', ylabel='Density'>"
      ]
     },
     "execution_count": 14,
     "metadata": {},
     "output_type": "execute_result"
    },
    {
     "data": {
      "image/png": "[encoded data removed]",
      "text/plain": [
       "<Figure size 1440x504 with 1 Axes>"
      ]
     },
     "metadata": {},
     "output_type": "display_data"
    }
   ],
   "source": [
    "sns.distplot(views_per_ad.quantity)"
   ]
  },
  {
   "cell_type": "code",
   "execution_count": 15,
   "id": "bdf946bc",
   "metadata": {},
   "outputs": [
    {
     "data": {
      "text/plain": [
       "count       956.000000\n",
       "mean        931.822176\n",
       "std       13006.492754\n",
       "min          10.000000\n",
       "25%          36.000000\n",
       "50%          84.000000\n",
       "75%         209.250000\n",
       "max      351802.000000\n",
       "Name: quantity, dtype: float64"
      ]
     },
     "execution_count": 15,
     "metadata": {},
     "output_type": "execute_result"
    }
   ],
   "source": [
    "views_per_ad.quantity.describe()"
   ]
  },
  {
   "cell_type": "code",
   "execution_count": 16,
   "id": "1af21296",
   "metadata": {},
   "outputs": [
    {
     "data": {
      "text/plain": [
       "0"
      ]
     },
     "execution_count": 16,
     "metadata": {},
     "output_type": "execute_result"
    }
   ],
   "source": [
    "views_per_ad.quantity.isna().sum()"
   ]
  },
  {
   "cell_type": "markdown",
   "id": "8eeb106f",
   "metadata": {},
   "source": [
    "Что бы улучшить визуально график для понимания можно прологарифмировать(лог шкалирование) данные(когда есть выбросы)"
   ]
  },
  {
   "cell_type": "code",
   "execution_count": 17,
   "id": "3038f5bd",
   "metadata": {},
   "outputs": [],
   "source": [
    "import numpy as np"
   ]
  },
  {
   "cell_type": "code",
   "execution_count": 18,
   "id": "314ad6d4",
   "metadata": {},
   "outputs": [
    {
     "data": {
      "text/plain": [
       "count    956.000000\n",
       "mean       4.597903\n",
       "std        1.330069\n",
       "min        2.302585\n",
       "25%        3.583519\n",
       "50%        4.430817\n",
       "75%        5.343528\n",
       "max       12.770824\n",
       "Name: log, dtype: float64"
      ]
     },
     "execution_count": 18,
     "metadata": {},
     "output_type": "execute_result"
    }
   ],
   "source": [
    "views_per_ad['log'] = np.log(views_per_ad.quantity)\n",
    "views_per_ad.log.describe()"
   ]
  },
  {
   "cell_type": "code",
   "execution_count": 19,
   "id": "ed4bb550",
   "metadata": {},
   "outputs": [
    {
     "data": {
      "text/plain": [
       "<AxesSubplot:xlabel='log', ylabel='Density'>"
      ]
     },
     "execution_count": 19,
     "metadata": {},
     "output_type": "execute_result"
    },
    {
     "data": {
      "image/png": "[encoded data removed]",
      "text/plain": [
       "<Figure size 1440x504 with 1 Axes>"
      ]
     },
     "metadata": {},
     "output_type": "display_data"
    }
   ],
   "source": [
    "sns.distplot(views_per_ad.log)"
   ]
  },
  {
   "cell_type": "markdown",
   "id": "82b1df20",
   "metadata": {},
   "source": [
    "А теперь посчитаем среднее значение показов, а по ним уже скользящее среднее показов с окном 2.\n",
    "Узнаем какое значение скользящего среднего получим за 6 апреля 2019 года"
   ]
  },
  {
   "cell_type": "code",
   "execution_count": 20,
   "id": "1a7473b9",
   "metadata": {},
   "outputs": [],
   "source": [
    "ads_views_date = ads.query('event == \"view\"') \\\n",
    "                    .pivot_table(index='ad_id', columns='date', values='time', aggfunc='count')"
   ]
  },
  {
   "cell_type": "code",
   "execution_count": 21,
   "id": "957eb5a7",
   "metadata": {},
   "outputs": [
    {
     "data": {
      "text/html": [
       "<div>\n",
       "<style scoped>\n",
       "    .dataframe tbody tr th:only-of-type {\n",
       "        vertical-align: middle;\n",
       "    }\n",
       "\n",
       "    .dataframe tbody tr th {\n",
       "        vertical-align: top;\n",
       "    }\n",
       "\n",
       "    .dataframe thead th {\n",
       "        text-align: right;\n",
       "    }\n",
       "</style>\n",
       "<table border=\"1\" class=\"dataframe\">\n",
       "  <thead>\n",
       "    <tr style=\"text-align: right;\">\n",
       "      <th>date</th>\n",
       "      <th>2019-04-01</th>\n",
       "      <th>2019-04-02</th>\n",
       "      <th>2019-04-03</th>\n",
       "      <th>2019-04-04</th>\n",
       "      <th>2019-04-05</th>\n",
       "      <th>2019-04-06</th>\n",
       "    </tr>\n",
       "    <tr>\n",
       "      <th>ad_id</th>\n",
       "      <th></th>\n",
       "      <th></th>\n",
       "      <th></th>\n",
       "      <th></th>\n",
       "      <th></th>\n",
       "      <th></th>\n",
       "    </tr>\n",
       "  </thead>\n",
       "  <tbody>\n",
       "    <tr>\n",
       "      <th>2</th>\n",
       "      <td>83.0</td>\n",
       "      <td>18.0</td>\n",
       "      <td>NaN</td>\n",
       "      <td>NaN</td>\n",
       "      <td>NaN</td>\n",
       "      <td>NaN</td>\n",
       "    </tr>\n",
       "    <tr>\n",
       "      <th>3</th>\n",
       "      <td>158.0</td>\n",
       "      <td>26.0</td>\n",
       "      <td>NaN</td>\n",
       "      <td>NaN</td>\n",
       "      <td>NaN</td>\n",
       "      <td>NaN</td>\n",
       "    </tr>\n",
       "    <tr>\n",
       "      <th>1902</th>\n",
       "      <td>NaN</td>\n",
       "      <td>NaN</td>\n",
       "      <td>34.0</td>\n",
       "      <td>7.0</td>\n",
       "      <td>NaN</td>\n",
       "      <td>NaN</td>\n",
       "    </tr>\n",
       "    <tr>\n",
       "      <th>2064</th>\n",
       "      <td>NaN</td>\n",
       "      <td>28.0</td>\n",
       "      <td>7.0</td>\n",
       "      <td>NaN</td>\n",
       "      <td>NaN</td>\n",
       "      <td>NaN</td>\n",
       "    </tr>\n",
       "    <tr>\n",
       "      <th>2132</th>\n",
       "      <td>NaN</td>\n",
       "      <td>NaN</td>\n",
       "      <td>25.0</td>\n",
       "      <td>27.0</td>\n",
       "      <td>6.0</td>\n",
       "      <td>NaN</td>\n",
       "    </tr>\n",
       "    <tr>\n",
       "      <th>...</th>\n",
       "      <td>...</td>\n",
       "      <td>...</td>\n",
       "      <td>...</td>\n",
       "      <td>...</td>\n",
       "      <td>...</td>\n",
       "      <td>...</td>\n",
       "    </tr>\n",
       "    <tr>\n",
       "      <th>122004</th>\n",
       "      <td>85.0</td>\n",
       "      <td>15.0</td>\n",
       "      <td>NaN</td>\n",
       "      <td>NaN</td>\n",
       "      <td>NaN</td>\n",
       "      <td>NaN</td>\n",
       "    </tr>\n",
       "    <tr>\n",
       "      <th>122013</th>\n",
       "      <td>NaN</td>\n",
       "      <td>NaN</td>\n",
       "      <td>NaN</td>\n",
       "      <td>134.0</td>\n",
       "      <td>22.0</td>\n",
       "      <td>NaN</td>\n",
       "    </tr>\n",
       "    <tr>\n",
       "      <th>122023</th>\n",
       "      <td>NaN</td>\n",
       "      <td>NaN</td>\n",
       "      <td>NaN</td>\n",
       "      <td>53.0</td>\n",
       "      <td>15.0</td>\n",
       "      <td>NaN</td>\n",
       "    </tr>\n",
       "    <tr>\n",
       "      <th>122031</th>\n",
       "      <td>NaN</td>\n",
       "      <td>NaN</td>\n",
       "      <td>NaN</td>\n",
       "      <td>NaN</td>\n",
       "      <td>119.0</td>\n",
       "      <td>19.0</td>\n",
       "    </tr>\n",
       "    <tr>\n",
       "      <th>122078</th>\n",
       "      <td>NaN</td>\n",
       "      <td>NaN</td>\n",
       "      <td>36.0</td>\n",
       "      <td>6.0</td>\n",
       "      <td>NaN</td>\n",
       "      <td>NaN</td>\n",
       "    </tr>\n",
       "  </tbody>\n",
       "</table>\n",
       "<p>956 rows × 6 columns</p>\n",
       "</div>"
      ],
      "text/plain": [
       "date    2019-04-01  2019-04-02  2019-04-03  2019-04-04  2019-04-05  2019-04-06\n",
       "ad_id                                                                         \n",
       "2             83.0        18.0         NaN         NaN         NaN         NaN\n",
       "3            158.0        26.0         NaN         NaN         NaN         NaN\n",
       "1902           NaN         NaN        34.0         7.0         NaN         NaN\n",
       "2064           NaN        28.0         7.0         NaN         NaN         NaN\n",
       "2132           NaN         NaN        25.0        27.0         6.0         NaN\n",
       "...            ...         ...         ...         ...         ...         ...\n",
       "122004        85.0        15.0         NaN         NaN         NaN         NaN\n",
       "122013         NaN         NaN         NaN       134.0        22.0         NaN\n",
       "122023         NaN         NaN         NaN        53.0        15.0         NaN\n",
       "122031         NaN         NaN         NaN         NaN       119.0        19.0\n",
       "122078         NaN         NaN        36.0         6.0         NaN         NaN\n",
       "\n",
       "[956 rows x 6 columns]"
      ]
     },
     "execution_count": 21,
     "metadata": {},
     "output_type": "execute_result"
    }
   ],
   "source": [
    "ads_views_date "
   ]
  },
  {
   "cell_type": "code",
   "execution_count": 22,
   "id": "d19383b4",
   "metadata": {},
   "outputs": [
    {
     "data": {
      "text/plain": [
       "ad_id\n",
       "45864     25.5\n",
       "42178     27.0\n",
       "99019     43.5\n",
       "41008     63.0\n",
       "120109    63.0\n",
       "          ... \n",
       "122004     NaN\n",
       "122013     NaN\n",
       "122023     NaN\n",
       "122031     NaN\n",
       "122078     NaN\n",
       "Name: 2019-04-01, Length: 956, dtype: float64"
      ]
     },
     "execution_count": 22,
     "metadata": {},
     "output_type": "execute_result"
    }
   ],
   "source": [
    "ads_views_date['2019-04-01'].rolling(2).mean().sort_values()"
   ]
  },
  {
   "cell_type": "code",
   "execution_count": 23,
   "id": "bb7e60b0",
   "metadata": {},
   "outputs": [
    {
     "data": {
      "text/plain": [
       "154.4822695035461"
      ]
     },
     "execution_count": 23,
     "metadata": {},
     "output_type": "execute_result"
    }
   ],
   "source": [
    "ads_views_date['2019-04-01'].mean()"
   ]
  },
  {
   "cell_type": "code",
   "execution_count": 24,
   "id": "6efe4460",
   "metadata": {},
   "outputs": [
    {
     "data": {
      "text/plain": [
       "date\n",
       "2019-04-01      NaN\n",
       "2019-04-02    146.0\n",
       "2019-04-03    151.0\n",
       "2019-04-04    420.0\n",
       "2019-04-05    798.0\n",
       "2019-04-06    598.0\n",
       "dtype: float64"
      ]
     },
     "execution_count": 24,
     "metadata": {},
     "output_type": "execute_result"
    }
   ],
   "source": [
    "rolling_views = ads_views_date.mean().rolling(2).mean().round(0)\n",
    "rolling_views"
   ]
  },
  {
   "cell_type": "code",
   "execution_count": 25,
   "id": "fe32b8ce",
   "metadata": {},
   "outputs": [
    {
     "data": {
      "text/plain": [
       "598.0"
      ]
     },
     "execution_count": 25,
     "metadata": {},
     "output_type": "execute_result"
    }
   ],
   "source": [
    "ads_views_date.mean().rolling(2).mean()['2019-04-06'].round()"
   ]
  },
  {
   "cell_type": "markdown",
   "id": "d9e872b8",
   "metadata": {},
   "source": [
    "Используем скользящее среднее для поиска аномалий в данных. \n",
    "Нанесем на один график значения арифметического среднего по дням и скользящего среднего количества показов. \n",
    "Посмотрим в какой день наблюдается наибольшая разница по модулю между арифметическим средним и скользящим средним\n",
    "(Дни, в которых скользящее среднее равно NaN, не учитываем)\n"
   ]
  },
  {
   "cell_type": "code",
   "execution_count": 26,
   "id": "615c029e",
   "metadata": {},
   "outputs": [
    {
     "data": {
      "text/plain": [
       "date\n",
       "2019-04-01    154.482270\n",
       "2019-04-02    137.786982\n",
       "2019-04-03    163.952778\n",
       "2019-04-04    675.901720\n",
       "2019-04-05    919.109677\n",
       "2019-04-06    277.122727\n",
       "dtype: float64"
      ]
     },
     "execution_count": 26,
     "metadata": {},
     "output_type": "execute_result"
    }
   ],
   "source": [
    "mean_views = ads_views_date.mean()\n",
    "mean_views"
   ]
  },
  {
   "cell_type": "code",
   "execution_count": 27,
   "id": "b0d7ae8a",
   "metadata": {},
   "outputs": [
    {
     "data": {
      "text/plain": [
       "<AxesSubplot:xlabel='date'>"
      ]
     },
     "execution_count": 27,
     "metadata": {},
     "output_type": "execute_result"
    },
    {
     "data": {
      "image/png": "[encoded data removed]",
      "text/plain": [
       "<Figure size 1440x504 with 1 Axes>"
      ]
     },
     "metadata": {},
     "output_type": "display_data"
    }
   ],
   "source": [
    "sns.lineplot(data=rolling_views, label='rolling_views')\n",
    "sns.lineplot(data=mean_views, label='mean_views')\n"
   ]
  },
  {
   "cell_type": "code",
   "execution_count": 28,
   "id": "fd6e7eb4",
   "metadata": {},
   "outputs": [
    {
     "data": {
      "text/plain": [
       "'2019-04-06'"
      ]
     },
     "execution_count": 28,
     "metadata": {},
     "output_type": "execute_result"
    }
   ],
   "source": [
    "anomaly_day = (mean_views - rolling_views).abs().idxmax()\n",
    "anomaly_day"
   ]
  },
  {
   "cell_type": "markdown",
   "id": "fb5b7907",
   "metadata": {},
   "source": [
    "Напишем функцию, которая найдет проблемное объявление (с наибольшим/наименишим количеством показов) в день, \n",
    " в который была замечена самая большая по модулю аномалия. \n"
   ]
  },
  {
   "cell_type": "code",
   "execution_count": 29,
   "id": "540387eb",
   "metadata": {},
   "outputs": [],
   "source": [
    "\n",
    "\n",
    "def anomaly(table_dates):\n",
    "    #Рассчитать среднее и скольз среднее\n",
    "    \n",
    "    mean_views = table_dates.mean()\n",
    "    rolling_views = table_dates.mean().rolling(2).mean()\n",
    "    \n",
    "    # Найти дату с аномалией\n",
    "    anomaly_day = mean_views.subtract(rolling_views).abs().idxmax()\n",
    "    \n",
    "    # Найти знак (Значение  по ключу даты)\n",
    "    difference_value = mean_views.subtract(rolling_views)[anomaly_day]\n",
    "    \n",
    "    # Найти максимальное значение показов\n",
    "    if difference_value <= 0:\n",
    "        anomaly_ad_id = table_dates[anomaly_day].idxmax()\n",
    "        \n",
    "     # Найти максимальное значение показов\n",
    "    else:\n",
    "        anomaly_ad_id = table_dates[anomaly_day].idxmin()\n",
    "        \n",
    "    return anomaly_ad_id\n",
    "    "
   ]
  },
  {
   "cell_type": "code",
   "execution_count": 30,
   "id": "0a3ac03b",
   "metadata": {},
   "outputs": [
    {
     "data": {
      "text/plain": [
       "112583"
      ]
     },
     "execution_count": 30,
     "metadata": {},
     "output_type": "execute_result"
    }
   ],
   "source": [
    "anomaly(ads_views_date)"
   ]
  },
  {
   "cell_type": "code",
   "execution_count": 31,
   "id": "1ac911f7",
   "metadata": {},
   "outputs": [
    {
     "data": {
      "text/plain": [
       "-320.8772727272727"
      ]
     },
     "execution_count": 31,
     "metadata": {},
     "output_type": "execute_result"
    }
   ],
   "source": [
    "difference_value = (mean_views - rolling_views)[anomaly_day]\n",
    "difference_value"
   ]
  },
  {
   "cell_type": "code",
   "execution_count": 32,
   "id": "f60c2b09",
   "metadata": {},
   "outputs": [
    {
     "data": {
      "text/plain": [
       "ad_id\n",
       "112583    48991.0\n",
       "28142      3280.0\n",
       "38892      1337.0\n",
       "37720       835.0\n",
       "18425       426.0\n",
       "           ...   \n",
       "121964        NaN\n",
       "122004        NaN\n",
       "122013        NaN\n",
       "122023        NaN\n",
       "122078        NaN\n",
       "Name: 2019-04-06, Length: 956, dtype: float64"
      ]
     },
     "execution_count": 32,
     "metadata": {},
     "output_type": "execute_result"
    }
   ],
   "source": [
    "ads_views_date[anomaly_day].sort_values(ascending=False)"
   ]
  },
  {
   "cell_type": "markdown",
   "id": "95dfacc4",
   "metadata": {},
   "source": [
    "Теперь подгрузим данные по рекламным клиентам "
   ]
  },
  {
   "cell_type": "code",
   "execution_count": 33,
   "id": "f1bf9c29",
   "metadata": {},
   "outputs": [],
   "source": [
    "ads_client = pd.read_csv('ads_clients_data.csv')"
   ]
  },
  {
   "cell_type": "code",
   "execution_count": 34,
   "id": "45759eb1",
   "metadata": {},
   "outputs": [
    {
     "data": {
      "text/html": [
       "<div>\n",
       "<style scoped>\n",
       "    .dataframe tbody tr th:only-of-type {\n",
       "        vertical-align: middle;\n",
       "    }\n",
       "\n",
       "    .dataframe tbody tr th {\n",
       "        vertical-align: top;\n",
       "    }\n",
       "\n",
       "    .dataframe thead th {\n",
       "        text-align: right;\n",
       "    }\n",
       "</style>\n",
       "<table border=\"1\" class=\"dataframe\">\n",
       "  <thead>\n",
       "    <tr style=\"text-align: right;\">\n",
       "      <th></th>\n",
       "      <th>date</th>\n",
       "      <th>client_union_id</th>\n",
       "      <th>community_id</th>\n",
       "      <th>create_date</th>\n",
       "    </tr>\n",
       "  </thead>\n",
       "  <tbody>\n",
       "    <tr>\n",
       "      <th>0</th>\n",
       "      <td>2020-05-07</td>\n",
       "      <td>1</td>\n",
       "      <td>-130371893</td>\n",
       "      <td>2018-12-24</td>\n",
       "    </tr>\n",
       "    <tr>\n",
       "      <th>1</th>\n",
       "      <td>2020-05-07</td>\n",
       "      <td>2</td>\n",
       "      <td>-130304626</td>\n",
       "      <td>2019-02-10</td>\n",
       "    </tr>\n",
       "    <tr>\n",
       "      <th>2</th>\n",
       "      <td>2020-05-07</td>\n",
       "      <td>3</td>\n",
       "      <td>-130462599</td>\n",
       "      <td>2019-01-25</td>\n",
       "    </tr>\n",
       "    <tr>\n",
       "      <th>3</th>\n",
       "      <td>2020-05-07</td>\n",
       "      <td>4</td>\n",
       "      <td>-130574300</td>\n",
       "      <td>2018-12-09</td>\n",
       "    </tr>\n",
       "    <tr>\n",
       "      <th>4</th>\n",
       "      <td>2020-05-07</td>\n",
       "      <td>5</td>\n",
       "      <td>-130292358</td>\n",
       "      <td>2019-01-08</td>\n",
       "    </tr>\n",
       "    <tr>\n",
       "      <th>...</th>\n",
       "      <td>...</td>\n",
       "      <td>...</td>\n",
       "      <td>...</td>\n",
       "      <td>...</td>\n",
       "    </tr>\n",
       "    <tr>\n",
       "      <th>122073</th>\n",
       "      <td>2020-05-07</td>\n",
       "      <td>122074</td>\n",
       "      <td>-130470790</td>\n",
       "      <td>2018-12-21</td>\n",
       "    </tr>\n",
       "    <tr>\n",
       "      <th>122074</th>\n",
       "      <td>2020-05-07</td>\n",
       "      <td>122075</td>\n",
       "      <td>-130911261</td>\n",
       "      <td>2018-11-09</td>\n",
       "    </tr>\n",
       "    <tr>\n",
       "      <th>122075</th>\n",
       "      <td>2020-05-07</td>\n",
       "      <td>122076</td>\n",
       "      <td>-130494912</td>\n",
       "      <td>2018-10-27</td>\n",
       "    </tr>\n",
       "    <tr>\n",
       "      <th>122076</th>\n",
       "      <td>2020-05-07</td>\n",
       "      <td>122077</td>\n",
       "      <td>-130910585</td>\n",
       "      <td>2018-12-05</td>\n",
       "    </tr>\n",
       "    <tr>\n",
       "      <th>122077</th>\n",
       "      <td>2020-05-07</td>\n",
       "      <td>122078</td>\n",
       "      <td>-130558729</td>\n",
       "      <td>2019-01-22</td>\n",
       "    </tr>\n",
       "  </tbody>\n",
       "</table>\n",
       "<p>122078 rows × 4 columns</p>\n",
       "</div>"
      ],
      "text/plain": [
       "              date  client_union_id  community_id create_date\n",
       "0       2020-05-07                1    -130371893  2018-12-24\n",
       "1       2020-05-07                2    -130304626  2019-02-10\n",
       "2       2020-05-07                3    -130462599  2019-01-25\n",
       "3       2020-05-07                4    -130574300  2018-12-09\n",
       "4       2020-05-07                5    -130292358  2019-01-08\n",
       "...            ...              ...           ...         ...\n",
       "122073  2020-05-07           122074    -130470790  2018-12-21\n",
       "122074  2020-05-07           122075    -130911261  2018-11-09\n",
       "122075  2020-05-07           122076    -130494912  2018-10-27\n",
       "122076  2020-05-07           122077    -130910585  2018-12-05\n",
       "122077  2020-05-07           122078    -130558729  2019-01-22\n",
       "\n",
       "[122078 rows x 4 columns]"
      ]
     },
     "execution_count": 34,
     "metadata": {},
     "output_type": "execute_result"
    }
   ],
   "source": [
    "ads_client"
   ]
  },
  {
   "cell_type": "markdown",
   "id": "205d42ae",
   "metadata": {},
   "source": [
    "Обьеденим два датафрейма по client_union_id и удалим ненужные столбцы "
   ]
  },
  {
   "cell_type": "code",
   "execution_count": 35,
   "id": "bf6f527f",
   "metadata": {},
   "outputs": [],
   "source": [
    "ads_client_full = ads.merge(ads_client.drop(columns=['community_id', 'date']))"
   ]
  },
  {
   "cell_type": "code",
   "execution_count": 36,
   "id": "c4bd051f",
   "metadata": {},
   "outputs": [
    {
     "data": {
      "text/html": [
       "<div>\n",
       "<style scoped>\n",
       "    .dataframe tbody tr th:only-of-type {\n",
       "        vertical-align: middle;\n",
       "    }\n",
       "\n",
       "    .dataframe tbody tr th {\n",
       "        vertical-align: top;\n",
       "    }\n",
       "\n",
       "    .dataframe thead th {\n",
       "        text-align: right;\n",
       "    }\n",
       "</style>\n",
       "<table border=\"1\" class=\"dataframe\">\n",
       "  <thead>\n",
       "    <tr style=\"text-align: right;\">\n",
       "      <th></th>\n",
       "      <th>date</th>\n",
       "      <th>time</th>\n",
       "      <th>event</th>\n",
       "      <th>platform</th>\n",
       "      <th>ad_id</th>\n",
       "      <th>client_union_id</th>\n",
       "      <th>campaign_union_id</th>\n",
       "      <th>ad_cost_type</th>\n",
       "      <th>ad_cost</th>\n",
       "      <th>has_video</th>\n",
       "      <th>target_audience_count</th>\n",
       "      <th>create_date</th>\n",
       "    </tr>\n",
       "  </thead>\n",
       "  <tbody>\n",
       "    <tr>\n",
       "      <th>0</th>\n",
       "      <td>2019-04-01</td>\n",
       "      <td>2019-04-01 00:00:48</td>\n",
       "      <td>view</td>\n",
       "      <td>android</td>\n",
       "      <td>45061</td>\n",
       "      <td>34734</td>\n",
       "      <td>45061</td>\n",
       "      <td>CPM</td>\n",
       "      <td>200.6</td>\n",
       "      <td>0</td>\n",
       "      <td>1955269</td>\n",
       "      <td>2018-12-04</td>\n",
       "    </tr>\n",
       "    <tr>\n",
       "      <th>1</th>\n",
       "      <td>2019-04-01</td>\n",
       "      <td>2019-04-01 00:03:28</td>\n",
       "      <td>view</td>\n",
       "      <td>android</td>\n",
       "      <td>45061</td>\n",
       "      <td>34734</td>\n",
       "      <td>45061</td>\n",
       "      <td>CPM</td>\n",
       "      <td>200.6</td>\n",
       "      <td>0</td>\n",
       "      <td>1955269</td>\n",
       "      <td>2018-12-04</td>\n",
       "    </tr>\n",
       "    <tr>\n",
       "      <th>2</th>\n",
       "      <td>2019-04-01</td>\n",
       "      <td>2019-04-01 00:04:58</td>\n",
       "      <td>view</td>\n",
       "      <td>ios</td>\n",
       "      <td>45061</td>\n",
       "      <td>34734</td>\n",
       "      <td>45061</td>\n",
       "      <td>CPM</td>\n",
       "      <td>200.6</td>\n",
       "      <td>0</td>\n",
       "      <td>1955269</td>\n",
       "      <td>2018-12-04</td>\n",
       "    </tr>\n",
       "    <tr>\n",
       "      <th>3</th>\n",
       "      <td>2019-04-01</td>\n",
       "      <td>2019-04-01 00:10:23</td>\n",
       "      <td>view</td>\n",
       "      <td>ios</td>\n",
       "      <td>45061</td>\n",
       "      <td>34734</td>\n",
       "      <td>45061</td>\n",
       "      <td>CPM</td>\n",
       "      <td>200.6</td>\n",
       "      <td>0</td>\n",
       "      <td>1955269</td>\n",
       "      <td>2018-12-04</td>\n",
       "    </tr>\n",
       "    <tr>\n",
       "      <th>4</th>\n",
       "      <td>2019-04-01</td>\n",
       "      <td>2019-04-01 00:15:42</td>\n",
       "      <td>view</td>\n",
       "      <td>android</td>\n",
       "      <td>45061</td>\n",
       "      <td>34734</td>\n",
       "      <td>45061</td>\n",
       "      <td>CPM</td>\n",
       "      <td>200.6</td>\n",
       "      <td>0</td>\n",
       "      <td>1955269</td>\n",
       "      <td>2018-12-04</td>\n",
       "    </tr>\n",
       "    <tr>\n",
       "      <th>...</th>\n",
       "      <td>...</td>\n",
       "      <td>...</td>\n",
       "      <td>...</td>\n",
       "      <td>...</td>\n",
       "      <td>...</td>\n",
       "      <td>...</td>\n",
       "      <td>...</td>\n",
       "      <td>...</td>\n",
       "      <td>...</td>\n",
       "      <td>...</td>\n",
       "      <td>...</td>\n",
       "      <td>...</td>\n",
       "    </tr>\n",
       "    <tr>\n",
       "      <th>999995</th>\n",
       "      <td>2019-04-04</td>\n",
       "      <td>2019-04-04 18:07:25</td>\n",
       "      <td>view</td>\n",
       "      <td>web</td>\n",
       "      <td>43921</td>\n",
       "      <td>30712</td>\n",
       "      <td>43920</td>\n",
       "      <td>CPM</td>\n",
       "      <td>196.7</td>\n",
       "      <td>0</td>\n",
       "      <td>7807</td>\n",
       "      <td>2019-03-04</td>\n",
       "    </tr>\n",
       "    <tr>\n",
       "      <th>999996</th>\n",
       "      <td>2019-04-04</td>\n",
       "      <td>2019-04-04 18:29:06</td>\n",
       "      <td>view</td>\n",
       "      <td>ios</td>\n",
       "      <td>43921</td>\n",
       "      <td>30712</td>\n",
       "      <td>43920</td>\n",
       "      <td>CPM</td>\n",
       "      <td>196.7</td>\n",
       "      <td>0</td>\n",
       "      <td>7807</td>\n",
       "      <td>2019-03-04</td>\n",
       "    </tr>\n",
       "    <tr>\n",
       "      <th>999997</th>\n",
       "      <td>2019-04-04</td>\n",
       "      <td>2019-04-04 18:55:46</td>\n",
       "      <td>view</td>\n",
       "      <td>web</td>\n",
       "      <td>43921</td>\n",
       "      <td>30712</td>\n",
       "      <td>43920</td>\n",
       "      <td>CPM</td>\n",
       "      <td>196.7</td>\n",
       "      <td>0</td>\n",
       "      <td>7807</td>\n",
       "      <td>2019-03-04</td>\n",
       "    </tr>\n",
       "    <tr>\n",
       "      <th>999998</th>\n",
       "      <td>2019-04-04</td>\n",
       "      <td>2019-04-04 19:21:09</td>\n",
       "      <td>view</td>\n",
       "      <td>android</td>\n",
       "      <td>43921</td>\n",
       "      <td>30712</td>\n",
       "      <td>43920</td>\n",
       "      <td>CPM</td>\n",
       "      <td>196.7</td>\n",
       "      <td>0</td>\n",
       "      <td>7807</td>\n",
       "      <td>2019-03-04</td>\n",
       "    </tr>\n",
       "    <tr>\n",
       "      <th>999999</th>\n",
       "      <td>2019-04-04</td>\n",
       "      <td>2019-04-04 20:22:57</td>\n",
       "      <td>view</td>\n",
       "      <td>ios</td>\n",
       "      <td>43921</td>\n",
       "      <td>30712</td>\n",
       "      <td>43920</td>\n",
       "      <td>CPM</td>\n",
       "      <td>196.7</td>\n",
       "      <td>0</td>\n",
       "      <td>7807</td>\n",
       "      <td>2019-03-04</td>\n",
       "    </tr>\n",
       "  </tbody>\n",
       "</table>\n",
       "<p>1000000 rows × 12 columns</p>\n",
       "</div>"
      ],
      "text/plain": [
       "              date                 time event platform  ad_id  \\\n",
       "0       2019-04-01  2019-04-01 00:00:48  view  android  45061   \n",
       "1       2019-04-01  2019-04-01 00:03:28  view  android  45061   \n",
       "2       2019-04-01  2019-04-01 00:04:58  view      ios  45061   \n",
       "3       2019-04-01  2019-04-01 00:10:23  view      ios  45061   \n",
       "4       2019-04-01  2019-04-01 00:15:42  view  android  45061   \n",
       "...            ...                  ...   ...      ...    ...   \n",
       "999995  2019-04-04  2019-04-04 18:07:25  view      web  43921   \n",
       "999996  2019-04-04  2019-04-04 18:29:06  view      ios  43921   \n",
       "999997  2019-04-04  2019-04-04 18:55:46  view      web  43921   \n",
       "999998  2019-04-04  2019-04-04 19:21:09  view  android  43921   \n",
       "999999  2019-04-04  2019-04-04 20:22:57  view      ios  43921   \n",
       "\n",
       "        client_union_id  campaign_union_id ad_cost_type  ad_cost  has_video  \\\n",
       "0                 34734              45061          CPM    200.6          0   \n",
       "1                 34734              45061          CPM    200.6          0   \n",
       "2                 34734              45061          CPM    200.6          0   \n",
       "3                 34734              45061          CPM    200.6          0   \n",
       "4                 34734              45061          CPM    200.6          0   \n",
       "...                 ...                ...          ...      ...        ...   \n",
       "999995            30712              43920          CPM    196.7          0   \n",
       "999996            30712              43920          CPM    196.7          0   \n",
       "999997            30712              43920          CPM    196.7          0   \n",
       "999998            30712              43920          CPM    196.7          0   \n",
       "999999            30712              43920          CPM    196.7          0   \n",
       "\n",
       "        target_audience_count create_date  \n",
       "0                     1955269  2018-12-04  \n",
       "1                     1955269  2018-12-04  \n",
       "2                     1955269  2018-12-04  \n",
       "3                     1955269  2018-12-04  \n",
       "4                     1955269  2018-12-04  \n",
       "...                       ...         ...  \n",
       "999995                   7807  2019-03-04  \n",
       "999996                   7807  2019-03-04  \n",
       "999997                   7807  2019-03-04  \n",
       "999998                   7807  2019-03-04  \n",
       "999999                   7807  2019-03-04  \n",
       "\n",
       "[1000000 rows x 12 columns]"
      ]
     },
     "execution_count": 36,
     "metadata": {},
     "output_type": "execute_result"
    }
   ],
   "source": [
    "ads_client_full"
   ]
  },
  {
   "cell_type": "markdown",
   "id": "8234c9cf",
   "metadata": {},
   "source": [
    "Приведем колонки с датой к соответствующему формату "
   ]
  },
  {
   "cell_type": "code",
   "execution_count": 37,
   "id": "08ce8159",
   "metadata": {},
   "outputs": [],
   "source": [
    "ads_client_full[['date', 'create_date']] = ads_client_full[['date', 'create_date']].apply(pd.to_datetime)"
   ]
  },
  {
   "cell_type": "markdown",
   "id": "42aea7f0",
   "metadata": {},
   "source": [
    "Найдем среднее количество дней от даты создания рекламного клиента и первым запуском рекламного объявления этим клиентом."
   ]
  },
  {
   "cell_type": "code",
   "execution_count": 38,
   "id": "c1f86545",
   "metadata": {},
   "outputs": [],
   "source": [
    "# Создадим функцию для вычисления минимальной разницы(так как нам нужна дата первого запуска)\n",
    "def find_min_diff(group):\n",
    "    diff = group.date - group.create_date\n",
    "    return diff.min()"
   ]
  },
  {
   "cell_type": "code",
   "execution_count": 39,
   "id": "f7c86f93",
   "metadata": {},
   "outputs": [
    {
     "data": {
      "text/plain": [
       "Timedelta('124 days 09:04:43.532219570')"
      ]
     },
     "execution_count": 39,
     "metadata": {},
     "output_type": "execute_result"
    }
   ],
   "source": [
    "ads_client_full.groupby('client_union_id').apply(find_min_diff).mean()"
   ]
  },
  {
   "cell_type": "markdown",
   "id": "db1209d2",
   "metadata": {},
   "source": [
    "Вычислим конверсию из создания рекламного клиента в запуск первой рекламы в течение не более 365 дней.\n",
    "(Фильтровать будем по значению в формате pd.Timedelta(365, unit='d'))"
   ]
  },
  {
   "cell_type": "code",
   "execution_count": 40,
   "id": "606f5e4a",
   "metadata": {},
   "outputs": [],
   "source": [
    "# Создаем условие для фильтрации даты ( не более 365 дней)\n",
    "condition = pd.to_timedelta(365, unit='d')"
   ]
  },
  {
   "cell_type": "code",
   "execution_count": 41,
   "id": "d8d07b3b",
   "metadata": {},
   "outputs": [],
   "source": [
    "creat_diff = ads_client_full.groupby('client_union_id').apply(find_min_diff)"
   ]
  },
  {
   "cell_type": "code",
   "execution_count": 42,
   "id": "16db3e6e",
   "metadata": {},
   "outputs": [],
   "source": [
    "# Фильтруем по условию\n",
    "creat_diff = creat_diff.loc[creat_diff < condition]"
   ]
  },
  {
   "cell_type": "code",
   "execution_count": 43,
   "id": "f4c5ef44",
   "metadata": {},
   "outputs": [
    {
     "data": {
      "text/plain": [
       "0.69"
      ]
     },
     "execution_count": 43,
     "metadata": {},
     "output_type": "execute_result"
    }
   ],
   "source": [
    "round(creat_diff.shape[0] / ads_client.client_union_id.nunique() * 100, 2)"
   ]
  },
  {
   "cell_type": "markdown",
   "id": "26322255",
   "metadata": {},
   "source": [
    "Разобъем наших клиентов по промежуткам от создания до запуска рекламного объявления, равным 30.\n",
    "Определим, сколько уникальных клиентов запустили свое первое объявление в первый месяц своего существования (от 0 до 30 дней)\n",
    "(Список промежутков для метода pd.cut – [0, 30, 90, 180, 365])"
   ]
  },
  {
   "cell_type": "code",
   "execution_count": 44,
   "id": "e2920797",
   "metadata": {},
   "outputs": [],
   "source": [
    "bins = pd.to_timedelta([0, 30, 90, 180, 365], unit='d')"
   ]
  },
  {
   "cell_type": "code",
   "execution_count": 45,
   "id": "d5c09792",
   "metadata": {},
   "outputs": [],
   "source": [
    "creat_diff_groups = pd.cut(creat_diff, bins=bins, labels=['0-30','30-90', '90-180', '180-365']).value_counts()"
   ]
  },
  {
   "cell_type": "markdown",
   "id": "d5ab11b5",
   "metadata": {},
   "source": [
    "А теперь выведем на интерактивный график эти категории с количеством уникальных клиентов в них."
   ]
  },
  {
   "cell_type": "code",
   "execution_count": 48,
   "id": "f79baed1",
   "metadata": {},
   "outputs": [
    {
     "data": {
      "application/vnd.plotly.v1+json": {
       "config": {
        "plotlyServerURL": "https://plot.ly"
       },
       "data": [
        {
         "alignmentgroup": "True",
         "hovertemplate": "variable=0<br>index=%{x}<br>value=%{y}<extra></extra>",
         "legendgroup": "0",
         "marker": {
          "color": "#636efa",
          "pattern": {
           "shape": ""
          }
         },
         "name": "0",
         "offsetgroup": "0",
         "orientation": "v",
         "showlegend": true,
         "textposition": "auto",
         "type": "bar",
         "x": [
          "90-180",
          "30-90",
          "180-365",
          "0-30"
         ],
         "xaxis": "x",
         "y": [
          396,
          263,
          168,
          11
         ],
         "yaxis": "y"
        }
       ],
       "layout": {
        "barmode": "relative",
        "legend": {
         "title": {
          "text": "variable"
         },
         "tracegroupgap": 0
        },
        "margin": {
         "t": 60
        },
        "template": {
         "data": {
          "bar": [
           {
            "error_x": {
             "color": "#2a3f5f"
            },
            "error_y": {
             "color": "#2a3f5f"
            },
            "marker": {
             "line": {
              "color": "#E5ECF6",
              "width": 0.5
             },
             "pattern": {
              "fillmode": "overlay",
              "size": 10,
              "solidity": 0.2
             }
            },
            "type": "bar"
           }
          ],
          "barpolar": [
           {
            "marker": {
             "line": {
              "color": "#E5ECF6",
              "width": 0.5
             },
             "pattern": {
              "fillmode": "overlay",
              "size": 10,
              "solidity": 0.2
             }
            },
            "type": "barpolar"
           }
          ],
          "carpet": [
           {
            "aaxis": {
             "endlinecolor": "#2a3f5f",
             "gridcolor": "white",
             "linecolor": "white",
             "minorgridcolor": "white",
             "startlinecolor": "#2a3f5f"
            },
            "baxis": {
             "endlinecolor": "#2a3f5f",
             "gridcolor": "white",
             "linecolor": "white",
             "minorgridcolor": "white",
             "startlinecolor": "#2a3f5f"
            },
            "type": "carpet"
           }
          ],
          "choropleth": [
           {
            "colorbar": {
             "outlinewidth": 0,
             "ticks": ""
            },
            "type": "choropleth"
           }
          ],
          "contour": [
           {
            "colorbar": {
             "outlinewidth": 0,
             "ticks": ""
            },
            "colorscale": [
             [
              0,
              "#0d0887"
             ],
             [
              0.1111111111111111,
              "#46039f"
             ],
             [
              0.2222222222222222,
              "#7201a8"
             ],
             [
              0.3333333333333333,
              "#9c179e"
             ],
             [
              0.4444444444444444,
              "#bd3786"
             ],
             [
              0.5555555555555556,
              "#d8576b"
             ],
             [
              0.6666666666666666,
              "#ed7953"
             ],
             [
              0.7777777777777778,
              "#fb9f3a"
             ],
             [
              0.8888888888888888,
              "#fdca26"
             ],
             [
              1,
              "#f0f921"
             ]
            ],
            "type": "contour"
           }
          ],
          "contourcarpet": [
           {
            "colorbar": {
             "outlinewidth": 0,
             "ticks": ""
            },
            "type": "contourcarpet"
           }
          ],
          "heatmap": [
           {
            "colorbar": {
             "outlinewidth": 0,
             "ticks": ""
            },
            "colorscale": [
             [
              0,
              "#0d0887"
             ],
             [
              0.1111111111111111,
              "#46039f"
             ],
             [
              0.2222222222222222,
              "#7201a8"
             ],
             [
              0.3333333333333333,
              "#9c179e"
             ],
             [
              0.4444444444444444,
              "#bd3786"
             ],
             [
              0.5555555555555556,
              "#d8576b"
             ],
             [
              0.6666666666666666,
              "#ed7953"
             ],
             [
              0.7777777777777778,
              "#fb9f3a"
             ],
             [
              0.8888888888888888,
              "#fdca26"
             ],
             [
              1,
              "#f0f921"
             ]
            ],
            "type": "heatmap"
           }
          ],
          "heatmapgl": [
           {
            "colorbar": {
             "outlinewidth": 0,
             "ticks": ""
            },
            "colorscale": [
             [
              0,
              "#0d0887"
             ],
             [
              0.1111111111111111,
              "#46039f"
             ],
             [
              0.2222222222222222,
              "#7201a8"
             ],
             [
              0.3333333333333333,
              "#9c179e"
             ],
             [
              0.4444444444444444,
              "#bd3786"
             ],
             [
              0.5555555555555556,
              "#d8576b"
             ],
             [
              0.6666666666666666,
              "#ed7953"
             ],
             [
              0.7777777777777778,
              "#fb9f3a"
             ],
             [
              0.8888888888888888,
              "#fdca26"
             ],
             [
              1,
              "#f0f921"
             ]
            ],
            "type": "heatmapgl"
           }
          ],
          "histogram": [
           {
            "marker": {
             "pattern": {
              "fillmode": "overlay",
              "size": 10,
              "solidity": 0.2
             }
            },
            "type": "histogram"
           }
          ],
          "histogram2d": [
           {
            "colorbar": {
             "outlinewidth": 0,
             "ticks": ""
            },
            "colorscale": [
             [
              0,
              "#0d0887"
             ],
             [
              0.1111111111111111,
              "#46039f"
             ],
             [
              0.2222222222222222,
              "#7201a8"
             ],
             [
              0.3333333333333333,
              "#9c179e"
             ],
             [
              0.4444444444444444,
              "#bd3786"
             ],
             [
              0.5555555555555556,
              "#d8576b"
             ],
             [
              0.6666666666666666,
              "#ed7953"
             ],
             [
              0.7777777777777778,
              "#fb9f3a"
             ],
             [
              0.8888888888888888,
              "#fdca26"
             ],
             [
              1,
              "#f0f921"
             ]
            ],
            "type": "histogram2d"
           }
          ],
          "histogram2dcontour": [
           {
            "colorbar": {
             "outlinewidth": 0,
             "ticks": ""
            },
            "colorscale": [
             [
              0,
              "#0d0887"
             ],
             [
              0.1111111111111111,
              "#46039f"
             ],
             [
              0.2222222222222222,
              "#7201a8"
             ],
             [
              0.3333333333333333,
              "#9c179e"
             ],
             [
              0.4444444444444444,
              "#bd3786"
             ],
             [
              0.5555555555555556,
              "#d8576b"
             ],
             [
              0.6666666666666666,
              "#ed7953"
             ],
             [
              0.7777777777777778,
              "#fb9f3a"
             ],
             [
              0.8888888888888888,
              "#fdca26"
             ],
             [
              1,
              "#f0f921"
             ]
            ],
            "type": "histogram2dcontour"
           }
          ],
          "mesh3d": [
           {
            "colorbar": {
             "outlinewidth": 0,
             "ticks": ""
            },
            "type": "mesh3d"
           }
          ],
          "parcoords": [
           {
            "line": {
             "colorbar": {
              "outlinewidth": 0,
              "ticks": ""
             }
            },
            "type": "parcoords"
           }
          ],
          "pie": [
           {
            "automargin": true,
            "type": "pie"
           }
          ],
          "scatter": [
           {
            "fillpattern": {
             "fillmode": "overlay",
             "size": 10,
             "solidity": 0.2
            },
            "type": "scatter"
           }
          ],
          "scatter3d": [
           {
            "line": {
             "colorbar": {
              "outlinewidth": 0,
              "ticks": ""
             }
            },
            "marker": {
             "colorbar": {
              "outlinewidth": 0,
              "ticks": ""
             }
            },
            "type": "scatter3d"
           }
          ],
          "scattercarpet": [
           {
            "marker": {
             "colorbar": {
              "outlinewidth": 0,
              "ticks": ""
             }
            },
            "type": "scattercarpet"
           }
          ],
          "scattergeo": [
           {
            "marker": {
             "colorbar": {
              "outlinewidth": 0,
              "ticks": ""
             }
            },
            "type": "scattergeo"
           }
          ],
          "scattergl": [
           {
            "marker": {
             "colorbar": {
              "outlinewidth": 0,
              "ticks": ""
             }
            },
            "type": "scattergl"
           }
          ],
          "scattermapbox": [
           {
            "marker": {
             "colorbar": {
              "outlinewidth": 0,
              "ticks": ""
             }
            },
            "type": "scattermapbox"
           }
          ],
          "scatterpolar": [
           {
            "marker": {
             "colorbar": {
              "outlinewidth": 0,
              "ticks": ""
             }
            },
            "type": "scatterpolar"
           }
          ],
          "scatterpolargl": [
           {
            "marker": {
             "colorbar": {
              "outlinewidth": 0,
              "ticks": ""
             }
            },
            "type": "scatterpolargl"
           }
          ],
          "scatterternary": [
           {
            "marker": {
             "colorbar": {
              "outlinewidth": 0,
              "ticks": ""
             }
            },
            "type": "scatterternary"
           }
          ],
          "surface": [
           {
            "colorbar": {
             "outlinewidth": 0,
             "ticks": ""
            },
            "colorscale": [
             [
              0,
              "#0d0887"
             ],
             [
              0.1111111111111111,
              "#46039f"
             ],
             [
              0.2222222222222222,
              "#7201a8"
             ],
             [
              0.3333333333333333,
              "#9c179e"
             ],
             [
              0.4444444444444444,
              "#bd3786"
             ],
             [
              0.5555555555555556,
              "#d8576b"
             ],
             [
              0.6666666666666666,
              "#ed7953"
             ],
             [
              0.7777777777777778,
              "#fb9f3a"
             ],
             [
              0.8888888888888888,
              "#fdca26"
             ],
             [
              1,
              "#f0f921"
             ]
            ],
            "type": "surface"
           }
          ],
          "table": [
           {
            "cells": {
             "fill": {
              "color": "#EBF0F8"
             },
             "line": {
              "color": "white"
             }
            },
            "header": {
             "fill": {
              "color": "#C8D4E3"
             },
             "line": {
              "color": "white"
             }
            },
            "type": "table"
           }
          ]
         },
         "layout": {
          "annotationdefaults": {
           "arrowcolor": "#2a3f5f",
           "arrowhead": 0,
           "arrowwidth": 1
          },
          "autotypenumbers": "strict",
          "coloraxis": {
           "colorbar": {
            "outlinewidth": 0,
            "ticks": ""
           }
          },
          "colorscale": {
           "diverging": [
            [
             0,
             "#8e0152"
            ],
            [
             0.1,
             "#c51b7d"
            ],
            [
             0.2,
             "#de77ae"
            ],
            [
             0.3,
             "#f1b6da"
            ],
            [
             0.4,
             "#fde0ef"
            ],
            [
             0.5,
             "#f7f7f7"
            ],
            [
             0.6,
             "#e6f5d0"
            ],
            [
             0.7,
             "#b8e186"
            ],
            [
             0.8,
             "#7fbc41"
            ],
            [
             0.9,
             "#4d9221"
            ],
            [
             1,
             "#276419"
            ]
           ],
           "sequential": [
            [
             0,
             "#0d0887"
            ],
            [
             0.1111111111111111,
             "#46039f"
            ],
            [
             0.2222222222222222,
             "#7201a8"
            ],
            [
             0.3333333333333333,
             "#9c179e"
            ],
            [
             0.4444444444444444,
             "#bd3786"
            ],
            [
             0.5555555555555556,
             "#d8576b"
            ],
            [
             0.6666666666666666,
             "#ed7953"
            ],
            [
             0.7777777777777778,
             "#fb9f3a"
            ],
            [
             0.8888888888888888,
             "#fdca26"
            ],
            [
             1,
             "#f0f921"
            ]
           ],
           "sequentialminus": [
            [
             0,
             "#0d0887"
            ],
            [
             0.1111111111111111,
             "#46039f"
            ],
            [
             0.2222222222222222,
             "#7201a8"
            ],
            [
             0.3333333333333333,
             "#9c179e"
            ],
            [
             0.4444444444444444,
             "#bd3786"
            ],
            [
             0.5555555555555556,
             "#d8576b"
            ],
            [
             0.6666666666666666,
             "#ed7953"
            ],
            [
             0.7777777777777778,
             "#fb9f3a"
            ],
            [
             0.8888888888888888,
             "#fdca26"
            ],
            [
             1,
             "#f0f921"
            ]
           ]
          },
          "colorway": [
           "#636efa",
           "#EF553B",
           "#00cc96",
           "#ab63fa",
           "#FFA15A",
           "#19d3f3",
           "#FF6692",
           "#B6E880",
           "#FF97FF",
           "#FECB52"
          ],
          "font": {
           "color": "#2a3f5f"
          },
          "geo": {
           "bgcolor": "white",
           "lakecolor": "white",
           "landcolor": "#E5ECF6",
           "showlakes": true,
           "showland": true,
           "subunitcolor": "white"
          },
          "hoverlabel": {
           "align": "left"
          },
          "hovermode": "closest",
          "mapbox": {
           "style": "light"
          },
          "paper_bgcolor": "white",
          "plot_bgcolor": "#E5ECF6",
          "polar": {
           "angularaxis": {
            "gridcolor": "white",
            "linecolor": "white",
            "ticks": ""
           },
           "bgcolor": "#E5ECF6",
           "radialaxis": {
            "gridcolor": "white",
            "linecolor": "white",
            "ticks": ""
           }
          },
          "scene": {
           "xaxis": {
            "backgroundcolor": "#E5ECF6",
            "gridcolor": "white",
            "gridwidth": 2,
            "linecolor": "white",
            "showbackground": true,
            "ticks": "",
            "zerolinecolor": "white"
           },
           "yaxis": {
            "backgroundcolor": "#E5ECF6",
            "gridcolor": "white",
            "gridwidth": 2,
            "linecolor": "white",
            "showbackground": true,
            "ticks": "",
            "zerolinecolor": "white"
           },
           "zaxis": {
            "backgroundcolor": "#E5ECF6",
            "gridcolor": "white",
            "gridwidth": 2,
            "linecolor": "white",
            "showbackground": true,
            "ticks": "",
            "zerolinecolor": "white"
           }
          },
          "shapedefaults": {
           "line": {
            "color": "#2a3f5f"
           }
          },
          "ternary": {
           "aaxis": {
            "gridcolor": "white",
            "linecolor": "white",
            "ticks": ""
           },
           "baxis": {
            "gridcolor": "white",
            "linecolor": "white",
            "ticks": ""
           },
           "bgcolor": "#E5ECF6",
           "caxis": {
            "gridcolor": "white",
            "linecolor": "white",
            "ticks": ""
           }
          },
          "title": {
           "x": 0.05
          },
          "xaxis": {
           "automargin": true,
           "gridcolor": "white",
           "linecolor": "white",
           "ticks": "",
           "title": {
            "standoff": 15
           },
           "zerolinecolor": "white",
           "zerolinewidth": 2
          },
          "yaxis": {
           "automargin": true,
           "gridcolor": "white",
           "linecolor": "white",
           "ticks": "",
           "title": {
            "standoff": 15
           },
           "zerolinecolor": "white",
           "zerolinewidth": 2
          }
         }
        },
        "xaxis": {
         "anchor": "y",
         "domain": [
          0,
          1
         ],
         "title": {
          "text": "index"
         }
        },
        "yaxis": {
         "anchor": "x",
         "domain": [
          0,
          1
         ],
         "title": {
          "text": "value"
         }
        }
       }
      },
      "text/html": [
       "<div>                            <div id=\"9a67abb1-c990-4870-abf9-6d76b4e66247\" class=\"plotly-graph-div\" style=\"height:525px; width:100%;\"></div>            <script type=\"text/javascript\">                require([\"plotly\"], function(Plotly) {                    window.PLOTLYENV=window.PLOTLYENV || {};                                    if (document.getElementById(\"9a67abb1-c990-4870-abf9-6d76b4e66247\")) {                    Plotly.newPlot(                        \"9a67abb1-c990-4870-abf9-6d76b4e66247\",                        [{\"alignmentgroup\":\"True\",\"hovertemplate\":\"variable=0<br>index=%{x}<br>value=%{y}<extra></extra>\",\"legendgroup\":\"0\",\"marker\":{\"color\":\"#636efa\",\"pattern\":{\"shape\":\"\"}},\"name\":\"0\",\"offsetgroup\":\"0\",\"orientation\":\"v\",\"showlegend\":true,\"textposition\":\"auto\",\"x\":[\"90-180\",\"30-90\",\"180-365\",\"0-30\"],\"xaxis\":\"x\",\"y\":[396,263,168,11],\"yaxis\":\"y\",\"type\":\"bar\"}],                        {\"template\":{\"data\":{\"histogram2dcontour\":[{\"type\":\"histogram2dcontour\",\"colorbar\":{\"outlinewidth\":0,\"ticks\":\"\"},\"colorscale\":[[0.0,\"#0d0887\"],[0.1111111111111111,\"#46039f\"],[0.2222222222222222,\"#7201a8\"],[0.3333333333333333,\"#9c179e\"],[0.4444444444444444,\"#bd3786\"],[0.5555555555555556,\"#d8576b\"],[0.6666666666666666,\"#ed7953\"],[0.7777777777777778,\"#fb9f3a\"],[0.8888888888888888,\"#fdca26\"],[1.0,\"#f0f921\"]]}],\"choropleth\":[{\"type\":\"choropleth\",\"colorbar\":{\"outlinewidth\":0,\"ticks\":\"\"}}],\"histogram2d\":[{\"type\":\"histogram2d\",\"colorbar\":{\"outlinewidth\":0,\"ticks\":\"\"},\"colorscale\":[[0.0,\"#0d0887\"],[0.1111111111111111,\"#46039f\"],[0.2222222222222222,\"#7201a8\"],[0.3333333333333333,\"#9c179e\"],[0.4444444444444444,\"#bd3786\"],[0.5555555555555556,\"#d8576b\"],[0.6666666666666666,\"#ed7953\"],[0.7777777777777778,\"#fb9f3a\"],[0.8888888888888888,\"#fdca26\"],[1.0,\"#f0f921\"]]}],\"heatmap\":[{\"type\":\"heatmap\",\"colorbar\":{\"outlinewidth\":0,\"ticks\":\"\"},\"colorscale\":[[0.0,\"#0d0887\"],[0.1111111111111111,\"#46039f\"],[0.2222222222222222,\"#7201a8\"],[0.3333333333333333,\"#9c179e\"],[0.4444444444444444,\"#bd3786\"],[0.5555555555555556,\"#d8576b\"],[0.6666666666666666,\"#ed7953\"],[0.7777777777777778,\"#fb9f3a\"],[0.8888888888888888,\"#fdca26\"],[1.0,\"#f0f921\"]]}],\"heatmapgl\":[{\"type\":\"heatmapgl\",\"colorbar\":{\"outlinewidth\":0,\"ticks\":\"\"},\"colorscale\":[[0.0,\"#0d0887\"],[0.1111111111111111,\"#46039f\"],[0.2222222222222222,\"#7201a8\"],[0.3333333333333333,\"#9c179e\"],[0.4444444444444444,\"#bd3786\"],[0.5555555555555556,\"#d8576b\"],[0.6666666666666666,\"#ed7953\"],[0.7777777777777778,\"#fb9f3a\"],[0.8888888888888888,\"#fdca26\"],[1.0,\"#f0f921\"]]}],\"contourcarpet\":[{\"type\":\"contourcarpet\",\"colorbar\":{\"outlinewidth\":0,\"ticks\":\"\"}}],\"contour\":[{\"type\":\"contour\",\"colorbar\":{\"outlinewidth\":0,\"ticks\":\"\"},\"colorscale\":[[0.0,\"#0d0887\"],[0.1111111111111111,\"#46039f\"],[0.2222222222222222,\"#7201a8\"],[0.3333333333333333,\"#9c179e\"],[0.4444444444444444,\"#bd3786\"],[0.5555555555555556,\"#d8576b\"],[0.6666666666666666,\"#ed7953\"],[0.7777777777777778,\"#fb9f3a\"],[0.8888888888888888,\"#fdca26\"],[1.0,\"#f0f921\"]]}],\"surface\":[{\"type\":\"surface\",\"colorbar\":{\"outlinewidth\":0,\"ticks\":\"\"},\"colorscale\":[[0.0,\"#0d0887\"],[0.1111111111111111,\"#46039f\"],[0.2222222222222222,\"#7201a8\"],[0.3333333333333333,\"#9c179e\"],[0.4444444444444444,\"#bd3786\"],[0.5555555555555556,\"#d8576b\"],[0.6666666666666666,\"#ed7953\"],[0.7777777777777778,\"#fb9f3a\"],[0.8888888888888888,\"#fdca26\"],[1.0,\"#f0f921\"]]}],\"mesh3d\":[{\"type\":\"mesh3d\",\"colorbar\":{\"outlinewidth\":0,\"ticks\":\"\"}}],\"scatter\":[{\"fillpattern\":{\"fillmode\":\"overlay\",\"size\":10,\"solidity\":0.2},\"type\":\"scatter\"}],\"parcoords\":[{\"type\":\"parcoords\",\"line\":{\"colorbar\":{\"outlinewidth\":0,\"ticks\":\"\"}}}],\"scatterpolargl\":[{\"type\":\"scatterpolargl\",\"marker\":{\"colorbar\":{\"outlinewidth\":0,\"ticks\":\"\"}}}],\"bar\":[{\"error_x\":{\"color\":\"#2a3f5f\"},\"error_y\":{\"color\":\"#2a3f5f\"},\"marker\":{\"line\":{\"color\":\"#E5ECF6\",\"width\":0.5},\"pattern\":{\"fillmode\":\"overlay\",\"size\":10,\"solidity\":0.2}},\"type\":\"bar\"}],\"scattergeo\":[{\"type\":\"scattergeo\",\"marker\":{\"colorbar\":{\"outlinewidth\":0,\"ticks\":\"\"}}}],\"scatterpolar\":[{\"type\":\"scatterpolar\",\"marker\":{\"colorbar\":{\"outlinewidth\":0,\"ticks\":\"\"}}}],\"histogram\":[{\"marker\":{\"pattern\":{\"fillmode\":\"overlay\",\"size\":10,\"solidity\":0.2}},\"type\":\"histogram\"}],\"scattergl\":[{\"type\":\"scattergl\",\"marker\":{\"colorbar\":{\"outlinewidth\":0,\"ticks\":\"\"}}}],\"scatter3d\":[{\"type\":\"scatter3d\",\"line\":{\"colorbar\":{\"outlinewidth\":0,\"ticks\":\"\"}},\"marker\":{\"colorbar\":{\"outlinewidth\":0,\"ticks\":\"\"}}}],\"scattermapbox\":[{\"type\":\"scattermapbox\",\"marker\":{\"colorbar\":{\"outlinewidth\":0,\"ticks\":\"\"}}}],\"scatterternary\":[{\"type\":\"scatterternary\",\"marker\":{\"colorbar\":{\"outlinewidth\":0,\"ticks\":\"\"}}}],\"scattercarpet\":[{\"type\":\"scattercarpet\",\"marker\":{\"colorbar\":{\"outlinewidth\":0,\"ticks\":\"\"}}}],\"carpet\":[{\"aaxis\":{\"endlinecolor\":\"#2a3f5f\",\"gridcolor\":\"white\",\"linecolor\":\"white\",\"minorgridcolor\":\"white\",\"startlinecolor\":\"#2a3f5f\"},\"baxis\":{\"endlinecolor\":\"#2a3f5f\",\"gridcolor\":\"white\",\"linecolor\":\"white\",\"minorgridcolor\":\"white\",\"startlinecolor\":\"#2a3f5f\"},\"type\":\"carpet\"}],\"table\":[{\"cells\":{\"fill\":{\"color\":\"#EBF0F8\"},\"line\":{\"color\":\"white\"}},\"header\":{\"fill\":{\"color\":\"#C8D4E3\"},\"line\":{\"color\":\"white\"}},\"type\":\"table\"}],\"barpolar\":[{\"marker\":{\"line\":{\"color\":\"#E5ECF6\",\"width\":0.5},\"pattern\":{\"fillmode\":\"overlay\",\"size\":10,\"solidity\":0.2}},\"type\":\"barpolar\"}],\"pie\":[{\"automargin\":true,\"type\":\"pie\"}]},\"layout\":{\"autotypenumbers\":\"strict\",\"colorway\":[\"#636efa\",\"#EF553B\",\"#00cc96\",\"#ab63fa\",\"#FFA15A\",\"#19d3f3\",\"#FF6692\",\"#B6E880\",\"#FF97FF\",\"#FECB52\"],\"font\":{\"color\":\"#2a3f5f\"},\"hovermode\":\"closest\",\"hoverlabel\":{\"align\":\"left\"},\"paper_bgcolor\":\"white\",\"plot_bgcolor\":\"#E5ECF6\",\"polar\":{\"bgcolor\":\"#E5ECF6\",\"angularaxis\":{\"gridcolor\":\"white\",\"linecolor\":\"white\",\"ticks\":\"\"},\"radialaxis\":{\"gridcolor\":\"white\",\"linecolor\":\"white\",\"ticks\":\"\"}},\"ternary\":{\"bgcolor\":\"#E5ECF6\",\"aaxis\":{\"gridcolor\":\"white\",\"linecolor\":\"white\",\"ticks\":\"\"},\"baxis\":{\"gridcolor\":\"white\",\"linecolor\":\"white\",\"ticks\":\"\"},\"caxis\":{\"gridcolor\":\"white\",\"linecolor\":\"white\",\"ticks\":\"\"}},\"coloraxis\":{\"colorbar\":{\"outlinewidth\":0,\"ticks\":\"\"}},\"colorscale\":{\"sequential\":[[0.0,\"#0d0887\"],[0.1111111111111111,\"#46039f\"],[0.2222222222222222,\"#7201a8\"],[0.3333333333333333,\"#9c179e\"],[0.4444444444444444,\"#bd3786\"],[0.5555555555555556,\"#d8576b\"],[0.6666666666666666,\"#ed7953\"],[0.7777777777777778,\"#fb9f3a\"],[0.8888888888888888,\"#fdca26\"],[1.0,\"#f0f921\"]],\"sequentialminus\":[[0.0,\"#0d0887\"],[0.1111111111111111,\"#46039f\"],[0.2222222222222222,\"#7201a8\"],[0.3333333333333333,\"#9c179e\"],[0.4444444444444444,\"#bd3786\"],[0.5555555555555556,\"#d8576b\"],[0.6666666666666666,\"#ed7953\"],[0.7777777777777778,\"#fb9f3a\"],[0.8888888888888888,\"#fdca26\"],[1.0,\"#f0f921\"]],\"diverging\":[[0,\"#8e0152\"],[0.1,\"#c51b7d\"],[0.2,\"#de77ae\"],[0.3,\"#f1b6da\"],[0.4,\"#fde0ef\"],[0.5,\"#f7f7f7\"],[0.6,\"#e6f5d0\"],[0.7,\"#b8e186\"],[0.8,\"#7fbc41\"],[0.9,\"#4d9221\"],[1,\"#276419\"]]},\"xaxis\":{\"gridcolor\":\"white\",\"linecolor\":\"white\",\"ticks\":\"\",\"title\":{\"standoff\":15},\"zerolinecolor\":\"white\",\"automargin\":true,\"zerolinewidth\":2},\"yaxis\":{\"gridcolor\":\"white\",\"linecolor\":\"white\",\"ticks\":\"\",\"title\":{\"standoff\":15},\"zerolinecolor\":\"white\",\"automargin\":true,\"zerolinewidth\":2},\"scene\":{\"xaxis\":{\"backgroundcolor\":\"#E5ECF6\",\"gridcolor\":\"white\",\"linecolor\":\"white\",\"showbackground\":true,\"ticks\":\"\",\"zerolinecolor\":\"white\",\"gridwidth\":2},\"yaxis\":{\"backgroundcolor\":\"#E5ECF6\",\"gridcolor\":\"white\",\"linecolor\":\"white\",\"showbackground\":true,\"ticks\":\"\",\"zerolinecolor\":\"white\",\"gridwidth\":2},\"zaxis\":{\"backgroundcolor\":\"#E5ECF6\",\"gridcolor\":\"white\",\"linecolor\":\"white\",\"showbackground\":true,\"ticks\":\"\",\"zerolinecolor\":\"white\",\"gridwidth\":2}},\"shapedefaults\":{\"line\":{\"color\":\"#2a3f5f\"}},\"annotationdefaults\":{\"arrowcolor\":\"#2a3f5f\",\"arrowhead\":0,\"arrowwidth\":1},\"geo\":{\"bgcolor\":\"white\",\"landcolor\":\"#E5ECF6\",\"subunitcolor\":\"white\",\"showland\":true,\"showlakes\":true,\"lakecolor\":\"white\"},\"title\":{\"x\":0.05},\"mapbox\":{\"style\":\"light\"}}},\"xaxis\":{\"anchor\":\"y\",\"domain\":[0.0,1.0],\"title\":{\"text\":\"index\"}},\"yaxis\":{\"anchor\":\"x\",\"domain\":[0.0,1.0],\"title\":{\"text\":\"value\"}},\"legend\":{\"title\":{\"text\":\"variable\"},\"tracegroupgap\":0},\"margin\":{\"t\":60},\"barmode\":\"relative\"},                        {\"responsive\": true}                    ).then(function(){\n",
       "                            \n",
       "var gd = document.getElementById('9a67abb1-c990-4870-abf9-6d76b4e66247');\n",
       "var x = new MutationObserver(function (mutations, observer) {{\n",
       "        var display = window.getComputedStyle(gd).display;\n",
       "        if (!display || display === 'none') {{\n",
       "            console.log([gd, 'removed!']);\n",
       "            Plotly.purge(gd);\n",
       "            observer.disconnect();\n",
       "        }}\n",
       "}});\n",
       "\n",
       "// Listen for the removal of the full notebook cells\n",
       "var notebookContainer = gd.closest('#notebook-container');\n",
       "if (notebookContainer) {{\n",
       "    x.observe(notebookContainer, {childList: true});\n",
       "}}\n",
       "\n",
       "// Listen for the clearing of the current output cell\n",
       "var outputEl = gd.closest('.output');\n",
       "if (outputEl) {{\n",
       "    x.observe(outputEl, {childList: true});\n",
       "}}\n",
       "\n",
       "                        })                };                });            </script>        </div>"
      ]
     },
     "metadata": {},
     "output_type": "display_data"
    }
   ],
   "source": [
    "px.bar(creat_diff_groups)\n"
   ]
  },
  {
   "cell_type": "code",
   "execution_count": null,
   "id": "ce92e728",
   "metadata": {},
   "outputs": [],
   "source": []
  }
 ],
 "metadata": {
  "kernelspec": {
   "display_name": "Python 3 (ipykernel)",
   "language": "python",
   "name": "python3"
  },
  "language_info": {
   "codemirror_mode": {
    "name": "ipython",
    "version": 3
   },
   "file_extension": ".py",
   "mimetype": "text/x-python",
   "name": "python",
   "nbconvert_exporter": "python",
   "pygments_lexer": "ipython3",
   "version": "3.9.7"
  }
 },
 "nbformat": 4,
 "nbformat_minor": 5
}
